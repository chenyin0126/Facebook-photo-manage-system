{
 "cells": [
  {
   "cell_type": "code",
   "execution_count": 51,
   "metadata": {
    "collapsed": false
   },
   "outputs": [],
   "source": [
    "from cassandra.cluster import Cluster\n",
    "from cassandra.query import SimpleStatement\n",
    "from cassandra import ConsistencyLevel\n",
    "\n",
    "cluster = Cluster(['localhost'])\n",
    "session = cluster.connect()\n",
    "session.set_keyspace('userlin')"
   ]
  },
  {
   "cell_type": "code",
   "execution_count": 19,
   "metadata": {
    "collapsed": false
   },
   "outputs": [
    {
     "data": {
      "text/plain": [
       "<cassandra.cluster.ResultSet at 0x7f2488014a90>"
      ]
     },
     "execution_count": 19,
     "metadata": {},
     "output_type": "execute_result"
    }
   ],
   "source": [
    "session.execute(\"CREATE TABLE T1(\\\n",
    "   emp_id int PRIMARY KEY,\\\n",
    "   emp_name text,\\\n",
    "   emp_city text,\\\n",
    "   emp_sal varint,\\\n",
    "   emp_phone varint\\\n",
    "   );\")\n",
    "session.execute(\"INSERT INTO foo (bar) VALUES (%s)\", (\"blah\", ))  # right"
   ]
  },
  {
   "cell_type": "code",
   "execution_count": 66,
   "metadata": {
    "collapsed": false
   },
   "outputs": [
    {
     "data": {
      "text/plain": [
       "<cassandra.cluster.ResultSet at 0x7f247c905450>"
      ]
     },
     "execution_count": 66,
     "metadata": {},
     "output_type": "execute_result"
    }
   ],
   "source": [
    "session.execute(\"INSERT INTO T1 (emp_id,emp_name,emp_city,emp_sal,emp_phone) VALUES (%s, %s,%s,%s,%s)\",\\\n",
    "                (3, 'Lin','Hangzhou',10,8036))"
   ]
  },
  {
   "cell_type": "code",
   "execution_count": 67,
   "metadata": {
    "collapsed": false
   },
   "outputs": [
    {
     "name": "stdout",
     "output_type": "stream",
     "text": [
      "Row(emp_id=2, emp_name=u'Lin')\n",
      "Row(emp_id=3, emp_name=u'Lin')\n"
     ]
    }
   ],
   "source": [
    "rows = session.execute('SELECT emp_id,emp_name FROM T1')\n",
    "for row in rows:\n",
    "    print row"
   ]
  },
  {
   "cell_type": "code",
   "execution_count": null,
   "metadata": {
    "collapsed": true
   },
   "outputs": [],
   "source": []
  }
 ],
 "metadata": {
  "kernelspec": {
   "display_name": "Python 2",
   "language": "python",
   "name": "python2"
  },
  "language_info": {
   "codemirror_mode": {
    "name": "ipython",
    "version": 2
   },
   "file_extension": ".py",
   "mimetype": "text/x-python",
   "name": "python",
   "nbconvert_exporter": "python",
   "pygments_lexer": "ipython2",
   "version": "2.7.6"
  }
 },
 "nbformat": 4,
 "nbformat_minor": 0
}
